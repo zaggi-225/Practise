{
  "nbformat": 4,
  "nbformat_minor": 0,
  "metadata": {
    "colab": {
      "provenance": [],
      "authorship_tag": "ABX9TyNIar2PO3S530YxXOKyFzu2",
      "include_colab_link": true
    },
    "kernelspec": {
      "name": "python3",
      "display_name": "Python 3"
    },
    "language_info": {
      "name": "python"
    }
  },
  "cells": [
    {
      "cell_type": "markdown",
      "metadata": {
        "id": "view-in-github",
        "colab_type": "text"
      },
      "source": [
        "<a href=\"https://colab.research.google.com/github/zaggi-225/Practise/blob/practise-programs/PrimeNum.ipynb\" target=\"_parent\"><img src=\"https://colab.research.google.com/assets/colab-badge.svg\" alt=\"Open In Colab\"/></a>"
      ]
    },
    {
      "cell_type": "code",
      "execution_count": null,
      "metadata": {
        "id": "HbCXwnYkch04"
      },
      "outputs": [],
      "source": []
    },
    {
      "cell_type": "code",
      "source": [
        "def factors(n):\n",
        "  factorlist=[]\n",
        "  for i in range (1,n+1):\n",
        "    if n%i==0:\n",
        "      factorlist.append(i)\n",
        "  return (factorlist)\n"
      ],
      "metadata": {
        "id": "ZPpUvNhacnqT"
      },
      "execution_count": 1,
      "outputs": []
    },
    {
      "cell_type": "code",
      "source": [
        "def isprime(n):\n",
        "  return factors(n)==[1,n]\n",
        "\n"
      ],
      "metadata": {
        "id": "0NhgiVVacnxy"
      },
      "execution_count": 2,
      "outputs": []
    },
    {
      "cell_type": "code",
      "source": [
        "primelist=[]\n",
        "for i in range (1,101):\n",
        "  if(isprime(i)):\n",
        "    primelist.append(i)\n",
        "print(primelist)"
      ],
      "metadata": {
        "colab": {
          "base_uri": "https://localhost:8080/"
        },
        "id": "_W8R0kRYcn_H",
        "outputId": "0424405f-93a7-47e2-92e0-ea9336f3dbc9"
      },
      "execution_count": 4,
      "outputs": [
        {
          "output_type": "stream",
          "name": "stdout",
          "text": [
            "[2, 3, 5, 7, 11, 13, 17, 19, 23, 29, 31, 37, 41, 43, 47, 53, 59, 61, 67, 71, 73, 79, 83, 89, 97]\n"
          ]
        }
      ]
    }
  ]
}