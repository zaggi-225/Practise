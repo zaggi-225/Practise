{
  "nbformat": 4,
  "nbformat_minor": 0,
  "metadata": {
    "colab": {
      "provenance": [],
      "authorship_tag": "ABX9TyOdEqvdpSLXozOpqdZlkUes",
      "include_colab_link": true
    },
    "kernelspec": {
      "name": "python3",
      "display_name": "Python 3"
    },
    "language_info": {
      "name": "python"
    }
  },
  "cells": [
    {
      "cell_type": "markdown",
      "metadata": {
        "id": "view-in-github",
        "colab_type": "text"
      },
      "source": [
        "<a href=\"https://colab.research.google.com/github/zaggi-225/first/blob/main/C_to_F.ipynb\" target=\"_parent\"><img src=\"https://colab.research.google.com/assets/colab-badge.svg\" alt=\"Open In Colab\"/></a>"
      ]
    },
    {
      "cell_type": "code",
      "execution_count": 6,
      "metadata": {
        "colab": {
          "base_uri": "https://localhost:8080/"
        },
        "id": "LtyJ8A_MD_qR",
        "outputId": "16883b2f-ff82-428c-df5f-1693966dc31f"
      },
      "outputs": [
        {
          "output_type": "stream",
          "name": "stdout",
          "text": [
            "1. Celcius to Fahrenheit\n",
            "2. Fahrenheit to Celcius\n",
            "Enter your choice: 1\n",
            "Enter temperature in Celcius: 86953325\n",
            "Temperature in Fahrenheit is:  156515953.0\n"
          ]
        }
      ],
      "source": [
        "def farhn(C):\n",
        "  F=(9/5)*C-32\n",
        "  return F\n",
        "\n",
        "def cel(F):\n",
        "  C=(5/9)*(F-32)\n",
        "  return C\n",
        "print(\"1. Celcius to Fahrenheit\")\n",
        "print(\"2. Fahrenheit to Celcius\")\n",
        "choice=int(input(\"Enter your choice: \"))\n",
        "if(choice==1):\n",
        "  C=float(input(\"Enter temperature in Celcius: \"))\n",
        "  print(\"Temperature in Fahrenheit is: \",farhn(C))\n",
        "elif(choice==2):\n",
        "  F=float(input(\"Enter temperature in Fahrenheit: \"))\n",
        "  print(\"Temperature in Celcius is: \",cel(F))\n",
        "else:\n",
        "  print(\"Invalid choice\")"
      ]
    },
    {
      "cell_type": "code",
      "source": [],
      "metadata": {
        "id": "7PQnhMWNHjes"
      },
      "execution_count": null,
      "outputs": []
    }
  ]
}