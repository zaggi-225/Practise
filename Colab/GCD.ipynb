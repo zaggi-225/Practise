{
  "nbformat": 4,
  "nbformat_minor": 0,
  "metadata": {
    "colab": {
      "provenance": [],
      "authorship_tag": "ABX9TyOW7iYGxGcv5pQIiEppdioM",
      "include_colab_link": true
    },
    "kernelspec": {
      "name": "python3",
      "display_name": "Python 3"
    },
    "language_info": {
      "name": "python"
    }
  },
  "cells": [
    {
      "cell_type": "markdown",
      "metadata": {
        "id": "view-in-github",
        "colab_type": "text"
      },
      "source": [
        "<a href=\"https://colab.research.google.com/github/zaggi-225/Practise/blob/mini-projects/GCD.ipynb\" target=\"_parent\"><img src=\"https://colab.research.google.com/assets/colab-badge.svg\" alt=\"Open In Colab\"/></a>"
      ]
    },
    {
      "cell_type": "code",
      "execution_count": 22,
      "metadata": {
        "id": "F7NtsYhugJ5-"
      },
      "outputs": [],
      "source": [
        "def gcd(a,b):\n",
        "    if (b==0):\n",
        "        return a\n",
        "    else:\n",
        "        return gcd(b,a%b)"
      ]
    },
    {
      "cell_type": "code",
      "source": [
        "a = int(input(\"Enter the first number: \"))\n",
        "b = int(input(\"Enter the second number: \"))\n",
        "\n",
        "result= gcd(a,b)\n",
        "print(\"The GCD of\",a,\"and\",b,\"is\",result)"
      ],
      "metadata": {
        "colab": {
          "base_uri": "https://localhost:8080/"
        },
        "id": "lB-SOB0uAu-v",
        "outputId": "72bc35fa-1420-4ec1-eb7f-995914752036"
      },
      "execution_count": 24,
      "outputs": [
        {
          "output_type": "stream",
          "name": "stdout",
          "text": [
            "Enter the first number: 45\n",
            "Enter the second number: 90\n",
            "The GCD of 45 and 90 is 45\n"
          ]
        }
      ]
    }
  ]
}