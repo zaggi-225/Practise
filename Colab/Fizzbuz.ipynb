{
  "nbformat": 4,
  "nbformat_minor": 0,
  "metadata": {
    "colab": {
      "provenance": [],
      "authorship_tag": "ABX9TyNatQYqH4EcdE3f3jFmAY/m",
      "include_colab_link": true
    },
    "kernelspec": {
      "name": "python3",
      "display_name": "Python 3"
    },
    "language_info": {
      "name": "python"
    }
  },
  "cells": [
    {
      "cell_type": "markdown",
      "metadata": {
        "id": "view-in-github",
        "colab_type": "text"
      },
      "source": [
        "<a href=\"https://colab.research.google.com/github/zaggi-225/first/blob/mini-projects/Fizzbuz.ipynb\" target=\"_parent\"><img src=\"https://colab.research.google.com/assets/colab-badge.svg\" alt=\"Open In Colab\"/></a>"
      ]
    },
    {
      "cell_type": "code",
      "execution_count": 9,
      "metadata": {
        "id": "_anrEV8jijWk"
      },
      "outputs": [],
      "source": [
        "n = int(input(\"Enter a number: \"))\n",
        "\n",
        "class Solution:\n",
        "    def fizzBuzz(self, n):\n",
        "        for i in range(1, n + 1):\n",
        "            if i % 3 == 0 and i % 5 == 0:\n",
        "                print(\"FizzBuzz\", end=\" \")\n",
        "            elif i % 3 == 0:\n",
        "                print(\"Fizz\", end=\" \")\n",
        "            elif i % 5 == 0:\n",
        "                print(\"Buzz\", end=\" \")\n",
        "            else:\n",
        "                print(i, end=\" \")\n",
        "\n",
        "# Create an instance of the Solution class\n",
        "sol = Solution()\n",
        "# Call the fizzBuzz method with n as the argument\n",
        "sol.fizzBuzz(n)"
      ]
    }
  ]
}