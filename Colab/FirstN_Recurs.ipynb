{
  "nbformat": 4,
  "nbformat_minor": 0,
  "metadata": {
    "colab": {
      "provenance": [],
      "authorship_tag": "ABX9TyMT2gQkCL0w99LEk/B0mJTN",
      "include_colab_link": true
    },
    "kernelspec": {
      "name": "python3",
      "display_name": "Python 3"
    },
    "language_info": {
      "name": "python"
    }
  },
  "cells": [
    {
      "cell_type": "markdown",
      "metadata": {
        "id": "view-in-github",
        "colab_type": "text"
      },
      "source": [
        "<a href=\"https://colab.research.google.com/github/zaggi-225/first/blob/main/FirstN_Recurs.ipynb\" target=\"_parent\"><img src=\"https://colab.research.google.com/assets/colab-badge.svg\" alt=\"Open In Colab\"/></a>"
      ]
    },
    {
      "cell_type": "code",
      "execution_count": 4,
      "metadata": {
        "colab": {
          "base_uri": "https://localhost:8080/"
        },
        "id": "kOjZz7stmejP",
        "outputId": "17e00295-7202-432c-b867-cd5c21f0f348"
      },
      "outputs": [
        {
          "output_type": "stream",
          "name": "stdout",
          "text": [
            "Enter a number: 45\n",
            "1 2 3 4 5 6 7 8 9 10 11 12 13 14 15 16 17 18 19 20 21 22 23 24 25 26 27 28 29 30 31 32 33 34 35 36 37 38 39 40 41 42 43 44 45 "
          ]
        }
      ],
      "source": [
        "def print_natural_numbers(a):\n",
        "    if a > 0:\n",
        "        print_natural_numbers(a - 1)  # Recursive call with a-1\n",
        "        print(a,end=\" \")  # Print the number after the recursive call\n",
        "\n",
        "n = int(input(\"Enter a number: \"))\n",
        "print_natural_numbers(n)\n"
      ]
    }
  ]
}