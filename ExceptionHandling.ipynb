{
  "nbformat": 4,
  "nbformat_minor": 0,
  "metadata": {
    "colab": {
      "provenance": [],
      "authorship_tag": "ABX9TyNo93hY1gVPaaidUXYhJy/X",
      "include_colab_link": true
    },
    "kernelspec": {
      "name": "python3",
      "display_name": "Python 3"
    },
    "language_info": {
      "name": "python"
    }
  },
  "cells": [
    {
      "cell_type": "markdown",
      "metadata": {
        "id": "view-in-github",
        "colab_type": "text"
      },
      "source": [
        "<a href=\"https://colab.research.google.com/github/zaggi-225/Practise/blob/practise-programs/ExceptionHandling.ipynb\" target=\"_parent\"><img src=\"https://colab.research.google.com/assets/colab-badge.svg\" alt=\"Open In Colab\"/></a>"
      ]
    },
    {
      "cell_type": "code",
      "execution_count": 18,
      "metadata": {
        "colab": {
          "base_uri": "https://localhost:8080/"
        },
        "id": "SJzfC95pnFEt",
        "outputId": "d84535f5-1987-4501-9097-7595e590aae1"
      },
      "outputs": [
        {
          "output_type": "stream",
          "name": "stdout",
          "text": [
            "8569\n"
          ]
        }
      ],
      "source": [
        "def h():\n",
        "  try:\n",
        "    return h()\n",
        "  except RuntimeError:\n",
        "    return 8569\n",
        "\n",
        "def g():\n",
        "  try:\n",
        "    return h()\n",
        "  except:\n",
        "    return 6\n",
        "def f():\n",
        "  try:\n",
        "    return g()\n",
        "  except:\n",
        "    return\n",
        "def b():\n",
        "  return f()\n",
        "print(b())\n"
      ]
    }
  ]
}