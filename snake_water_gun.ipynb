{
  "nbformat": 4,
  "nbformat_minor": 0,
  "metadata": {
    "colab": {
      "provenance": [],
      "authorship_tag": "ABX9TyNB5/2dFOVZsDKZtKvNyJLr",
      "include_colab_link": true
    },
    "kernelspec": {
      "name": "python3",
      "display_name": "Python 3"
    },
    "language_info": {
      "name": "python"
    }
  },
  "cells": [
    {
      "cell_type": "markdown",
      "metadata": {
        "id": "view-in-github",
        "colab_type": "text"
      },
      "source": [
        "<a href=\"https://colab.research.google.com/github/zaggi-225/first/blob/main/snake_water_gun.ipynb\" target=\"_parent\"><img src=\"https://colab.research.google.com/assets/colab-badge.svg\" alt=\"Open In Colab\"/></a>"
      ]
    },
    {
      "cell_type": "code",
      "source": [
        "import random\n",
        "'''\n",
        "1 for snake\n",
        "-1 for water\n",
        "0 for gun\n",
        "'''\n",
        "computer = random.choice([-1, 0, 1])\n",
        "youstr = input(\"Enter your choice: \")\n",
        "youDict = {\"s\": 1, \"w\": -1, \"g\": 0}\n",
        "reverseDict = {1: \"Snake\", -1: \"Water\", 0: \"Gun\"}\n",
        "\n",
        "you = youDict[youstr]\n",
        "\n",
        "# By now we have 2 numbers (variables), you and computer\n",
        "\n",
        "print(f\"You chose {reverseDict[you]}\\nComputer chose {reverseDict[computer]}\")\n",
        "\n",
        "if(computer == you):\n",
        "    print(\"Its a draw\")\n",
        "\n",
        "else:\n",
        "    if(computer ==-1 and you == 1):\n",
        "        print(\"You win!\")\n",
        "\n",
        "    elif(computer ==-1 and you == 0):\n",
        "        print(\"You Lose!\")\n",
        "\n",
        "    elif(computer == 1 and you == -1):\n",
        "        print(\"You lose!\")\n",
        "\n",
        "    elif(computer ==1 and you == 0):\n",
        "        print(\"You Win!\")\n",
        "\n",
        "    elif(computer ==0 and you == -1):\n",
        "        print(\"You Win!\")\n",
        "\n",
        "    elif(computer == 0 and you == 1):\n",
        "        print(\"You Lose!\")\n",
        "\n",
        "    else:\n",
        "        print(\"Something went wrong!\")"
      ],
      "metadata": {
        "colab": {
          "base_uri": "https://localhost:8080/"
        },
        "id": "8pxdkmH8swzC",
        "outputId": "4f562034-95d2-448d-b397-a217a84594ad"
      },
      "execution_count": 19,
      "outputs": [
        {
          "output_type": "stream",
          "name": "stdout",
          "text": [
            "Enter your choice: g\n",
            "You chose Gun\n",
            "Computer chose Snake\n",
            "You Win!\n"
          ]
        }
      ]
    }
  ]
}